{
  "nbformat": 4,
  "nbformat_minor": 0,
  "metadata": {
    "colab": {
      "name": "Resume Builder Automate",
      "provenance": [],
      "collapsed_sections": [],
      "mount_file_id": "12QIVtepne9IvPKuHTYHDSX3pO5EOCgev",
      "authorship_tag": "ABX9TyPGTtrtRmpX4O+aQqhfIFlZ",
      "include_colab_link": true
    },
    "kernelspec": {
      "name": "python3",
      "display_name": "Python 3"
    }
  },
  "cells": [
    {
      "cell_type": "markdown",
      "metadata": {
        "id": "view-in-github",
        "colab_type": "text"
      },
      "source": [
        "<a href=\"https://colab.research.google.com/github/abhi91420/Resume_Automation/blob/main/Resume_Builder_Automate.ipynb\" target=\"_parent\"><img src=\"https://colab.research.google.com/assets/colab-badge.svg\" alt=\"Open In Colab\"/></a>"
      ]
    },
    {
      "cell_type": "markdown",
      "metadata": {
        "id": "YoZ6or3LFMnG"
      },
      "source": [
        "## Resume Builder Automation\n",
        "\n",
        "- Input : Job description\n",
        "- Output : Resume relavent to the job"
      ]
    },
    {
      "cell_type": "markdown",
      "metadata": {
        "id": "8FXI-S8gGZb_"
      },
      "source": [
        "### Input data preprocessing\n",
        "\n",
        "we paste the job description and we extract meaningful data from it\n"
      ]
    },
    {
      "cell_type": "code",
      "metadata": {
        "id": "RZwgPG96alfo"
      },
      "source": [
        "job_desc= \"\"\"· Java/J2EE, Spring, Rest API, Spring Boot and Micro Services - Job Description and Skillset· Experience in Java/J2EE development, Spring framework, Java persistence and API· Experience with designing and implementing Microservices based applications · Experience in designing and implementing micro services (Containers)· Strong in Integration components - Integration, RESTful web service implementations, Spring Boot, XML/XSD, JSON. MQ Integration, Junits· XML and JSON knowledge required· RAML, Swagger and WSDL knowledge a plus· Experience with setting up CI/CD environments and working within them· Experience using Agile development methodology\n",
        "\n",
        "Good to have skills*\n",
        "\n",
        "· Experience using Agile development methodology· Analyzes, designs, codes, tests, corrects, and documents highly complex programs to ensure optimal performance and compliance· Strong team player, excellent communication skills both verbal and written\n",
        "\n",
        "Key responsibilities*\n",
        "\n",
        "To understand requirements/stories as part of an Agile Team & ensure successful development as a Full Stack developer\n",
        "\n",
        "Keywords\n",
        "\n",
        "Java, Spring, Rest API, Spring Boot\n",
        "\"\"\"\n",
        "esc_char = [' ',',',':','/','\\n','\\t','-','$',\"\\\\\",'.']\n",
        "for ch in esc_char:\n",
        "  job_desc = job_desc.replace(ch,'')\n",
        "job_desc_norm = job_desc.lower()"
      ],
      "execution_count": 1,
      "outputs": []
    },
    {
      "cell_type": "code",
      "metadata": {
        "id": "tI64436cO-0t"
      },
      "source": [
        "import pandas as pd\n",
        "tech_set = pd.read_csv(\"https://raw.githubusercontent.com/abhi91420/Resume_Automation/main/data/list_of_softwares.csv\",header = None,error_bad_lines= False)\n",
        "tech_set = tech_set[0]\n",
        "tech_set = tech_set.drop_duplicates()\n",
        "tech_set_list= []\n",
        "try:\n",
        "  for i in range(tech_set.size):\n",
        "    tech_set_list.append(tech_set[i])\n",
        "except KeyError:\n",
        "  pass\n",
        "    "
      ],
      "execution_count": 2,
      "outputs": []
    },
    {
      "cell_type": "markdown",
      "metadata": {
        "id": "Ut7cm5YTpv8M"
      },
      "source": [
        "### Normalize the data"
      ]
    },
    {
      "cell_type": "code",
      "metadata": {
        "id": "eabjeqbcfHke"
      },
      "source": [
        "def Normalize(x):\n",
        "  temp = []\n",
        "  char = [' ',',',':','/','\\n','\\t','-','$',\"\\\\\",'.']\n",
        "  for i in range(len(x)):\n",
        "    x[i] = str(x[i].lower())\n",
        "    for ch in char:\n",
        "      x[i] = x[i].replace(ch,'')\n",
        "    temp.append(x[i])\n",
        "  return temp"
      ],
      "execution_count": 3,
      "outputs": []
    },
    {
      "cell_type": "code",
      "metadata": {
        "id": "wvOwmAwxf4iL"
      },
      "source": [
        "tech_set_norm = Normalize(tech_set_list)"
      ],
      "execution_count": 4,
      "outputs": []
    },
    {
      "cell_type": "markdown",
      "metadata": {
        "id": "P2A39n4kp2T3"
      },
      "source": [
        "### check for technologies in the job description\n"
      ]
    },
    {
      "cell_type": "code",
      "metadata": {
        "id": "sUXmslrJp-Uc"
      },
      "source": [
        "found_set = []\n",
        "for i in tech_set_norm:\n",
        "  if i in job_desc_norm:\n",
        "    found_set.append(i)\n",
        "\n",
        "if len(found_set)%2 != 2:\n",
        "  found_set.append(\"\")"
      ],
      "execution_count": 5,
      "outputs": []
    },
    {
      "cell_type": "markdown",
      "metadata": {
        "id": "QGJXoi35mDeM"
      },
      "source": [
        "### Creating a document with the information\n",
        "---\n",
        "Required package : Python Docx \n",
        "\n",
        "- install command : ```!pip install python-docx```\n"
      ]
    },
    {
      "cell_type": "code",
      "metadata": {
        "id": "mz6IWgw9hp2E",
        "outputId": "61060310-c17a-42eb-fda3-57acf096291c",
        "colab": {
          "base_uri": "https://localhost:8080/"
        }
      },
      "source": [
        "!pip install python-docx"
      ],
      "execution_count": 6,
      "outputs": [
        {
          "output_type": "stream",
          "text": [
            "Requirement already satisfied: python-docx in /usr/local/lib/python3.6/dist-packages (0.8.10)\n",
            "Requirement already satisfied: lxml>=2.3.2 in /usr/local/lib/python3.6/dist-packages (from python-docx) (4.2.6)\n"
          ],
          "name": "stdout"
        }
      ]
    },
    {
      "cell_type": "code",
      "metadata": {
        "id": "WPM_yoO6KtfN"
      },
      "source": [
        "# custom function \n",
        "\n",
        "def heading(x,n):\n",
        "  return resume.add_heading(x,n)\n",
        "\n",
        "def para(x):\n",
        "  return  resume.add_paragraph(x)\n",
        "\n",
        "def center(x):\n",
        "  x.alignment = WD_ALIGN_PARAGRAPH.CENTER"
      ],
      "execution_count": 7,
      "outputs": []
    },
    {
      "cell_type": "markdown",
      "metadata": {
        "id": "4gSSzrk_wg8-"
      },
      "source": [
        "### Required data for document entry\n",
        "\n",
        "- user enters his personal data (Name, No, address etc)\n",
        "- prewritten set of objective paragraphs"
      ]
    },
    {
      "cell_type": "code",
      "metadata": {
        "id": "fFlC0IhluIW6"
      },
      "source": [
        "import docx\n",
        "from docx.enum.text import *\n",
        "\n",
        "# initialize document object\n",
        "\n",
        "resume = docx.Document()"
      ],
      "execution_count": 9,
      "outputs": []
    },
    {
      "cell_type": "code",
      "metadata": {
        "id": "nXWYR_ffuPl_"
      },
      "source": [
        "# User prompt information\n",
        "\n",
        "name = input(\"Enter Your Name : \")\n",
        "address = input(\"Enter your Address : \")\n",
        "phone_no = input(\"Enter Your Contact No :\")\n",
        "email_id = input(\"Enter Email id : \")\n",
        "line_2 = address+','+phone_no+','+email_id\n"
      ],
      "execution_count": null,
      "outputs": []
    },
    {
      "cell_type": "code",
      "metadata": {
        "id": "_1OuXgwKoNm-",
        "outputId": "4ef89e46-a896-41df-f25c-cd4b420632d3",
        "colab": {
          "base_uri": "https://localhost:8080/"
        }
      },
      "source": [
        "# add the user prompt info to the docxfile \n",
        "\n",
        "title_1 = heading(name,1)\n",
        "center(title_1)\n",
        "title_2 = heading(line_2,2)\n",
        "center(title_2)\n",
        "# Line space \n",
        "para(\"\")\n"
      ],
      "execution_count": 9,
      "outputs": [
        {
          "output_type": "execute_result",
          "data": {
            "text/plain": [
              "<docx.text.paragraph.Paragraph at 0x7f0feb1e4ba8>"
            ]
          },
          "metadata": {
            "tags": []
          },
          "execution_count": 9
        }
      ]
    },
    {
      "cell_type": "code",
      "metadata": {
        "id": "YuPw8XiRnTWS",
        "outputId": "a5e4fd05-140a-4598-8b3b-3075393c1627",
        "colab": {
          "base_uri": "https://localhost:8080/"
        }
      },
      "source": [
        "# add objective/summary\n",
        "\n",
        "heading(\"Objective Summary\",2)\n",
        "objective_preset = \"I am a recent graduate with a master’s degree in Computer Science and have a passion for Software, Highly motivated and want to work for your reputed organization, open to learning any new technologies that are required. Skilled in technical and non-technical aspects that contribute to an efficient team and individual functionality.\"\n",
        "objective = para(objective_preset)\n",
        "para(\" \")\n"
      ],
      "execution_count": 11,
      "outputs": [
        {
          "output_type": "execute_result",
          "data": {
            "text/plain": [
              "<docx.text.paragraph.Paragraph at 0x7f0feb1906a0>"
            ]
          },
          "metadata": {
            "tags": []
          },
          "execution_count": 11
        }
      ]
    },
    {
      "cell_type": "code",
      "metadata": {
        "id": "CKs5gjY3oVEO"
      },
      "source": [
        "# add work experience\n",
        "\n",
        "print(\"\\nWork Experience Section \\n\")\n",
        "heading(\"Work Experience\",2)\n",
        "para(\"\")\n",
        "work_title = input(\"Enter Your Work title : \")\n",
        "company = input(\"Enter Company's Name : \")\n",
        "heading(work_title  + \"-\" + company,2)\n",
        "heading(\"Responsibilities and duties :\",3)\n",
        "duties = []\n",
        "print(\"\\nEnter Duties : (enter q to stop entering duties) \")\n",
        "flag = \"\"\n",
        "while flag != \"q\":\n",
        "  flag = input(\"enter a duty : \")\n",
        "  duties.append(\". \"+ flag)\n",
        "temp = \"\"\n",
        "for duty in duties[:-1]:\n",
        "  temp = temp+duty+\"\\n\"\n",
        "para(temp)\n"
      ],
      "execution_count": null,
      "outputs": []
    },
    {
      "cell_type": "code",
      "metadata": {
        "id": "Uw8ntVgIoWr1",
        "outputId": "a0aca249-fe30-42e8-f765-8510704ac0aa",
        "colab": {
          "base_uri": "https://localhost:8080/"
        }
      },
      "source": [
        "# add education\n",
        "\n",
        "print(\"\\nEducation Section \\n\")\n",
        "education = input(\"Enter Your Name of the Degree :\")\n",
        "institute = input(\"Name of the institute : \")\n",
        "institute_location = input(\"City : \") +\",\"+input(\"State :\")\n",
        "years = input(\"From year : \")+\" - \"+input(\"To year : \")\n",
        "heading(\"Education\",2)\n",
        "para(\"\")\n",
        "heading(education,3)\n",
        "para(institute+\",\"+institute_location+\"\\n\"+years)\n"
      ],
      "execution_count": 12,
      "outputs": [
        {
          "output_type": "stream",
          "text": [
            "\n",
            "Education Section \n",
            "\n",
            "Enter Your Name of the Degree :Master of Computer Science\n",
            "Name of the institute : Lakehead University\n",
            "City : Thunder Bay\n",
            "State :ON\n",
            "From year : 2018\n",
            "To year : 202\n"
          ],
          "name": "stdout"
        },
        {
          "output_type": "execute_result",
          "data": {
            "text/plain": [
              "<docx.text.paragraph.Paragraph at 0x7f0fec883f60>"
            ]
          },
          "metadata": {
            "tags": []
          },
          "execution_count": 12
        }
      ]
    },
    {
      "cell_type": "code",
      "metadata": {
        "id": "TRlDsIH9oYQO"
      },
      "source": [
        "# add skills\n",
        "\n",
        "heading(\"Skills\",2)\n",
        "para(\"\")\n",
        "skill_table = resume.add_table(rows = 0,cols = 2)\n",
        "count = 0\n",
        "for i in range(int(len(found_set)/2)):\n",
        "  table_cells = skill_table.add_row().cells    \n",
        "  table_cells[0].text = found_set[count]\n",
        "  count += 1\n",
        "  table_cells[1].text = found_set[count]\n",
        "  count += 1"
      ],
      "execution_count": 10,
      "outputs": []
    },
    {
      "cell_type": "code",
      "metadata": {
        "id": "vmUyqgWYoaGi"
      },
      "source": [
        "# Save the document\n",
        "\n",
        "resume.save(\"resume.docx\")"
      ],
      "execution_count": 11,
      "outputs": []
    }
  ]
}