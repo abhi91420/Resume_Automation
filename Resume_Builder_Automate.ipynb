{
  "nbformat": 4,
  "nbformat_minor": 0,
  "metadata": {
    "colab": {
      "name": "Resume Builder Automate",
      "provenance": [],
      "collapsed_sections": [],
      "mount_file_id": "12QIVtepne9IvPKuHTYHDSX3pO5EOCgev",
      "authorship_tag": "ABX9TyOsMKsvQPigqE+t48xBUNaP",
      "include_colab_link": true
    },
    "kernelspec": {
      "name": "python3",
      "display_name": "Python 3"
    }
  },
  "cells": [
    {
      "cell_type": "markdown",
      "metadata": {
        "id": "view-in-github",
        "colab_type": "text"
      },
      "source": [
        "<a href=\"https://colab.research.google.com/github/abhi91420/Resume_Automation/blob/main/Resume_Builder_Automate.ipynb\" target=\"_parent\"><img src=\"https://colab.research.google.com/assets/colab-badge.svg\" alt=\"Open In Colab\"/></a>"
      ]
    },
    {
      "cell_type": "markdown",
      "metadata": {
        "id": "YoZ6or3LFMnG"
      },
      "source": [
        "## Resume Builder Automation\n",
        "\n",
        "- Input : Job description\n",
        "- Output : Resume relavent to the job"
      ]
    },
    {
      "cell_type": "markdown",
      "metadata": {
        "id": "8FXI-S8gGZb_"
      },
      "source": [
        "### Input data preprocessing\n",
        "\n",
        "we paste the job description and we extract meaningful data from it\n"
      ]
    },
    {
      "cell_type": "code",
      "metadata": {
        "id": "RZwgPG96alfo",
        "outputId": "a14d096c-7099-4a13-cd57-1ab4b3893a7d",
        "colab": {
          "base_uri": "https://localhost:8080/"
        }
      },
      "source": [
        "job_desc= input()\n",
        "esc_char = [' ',',',':','/','\\n','\\t','-','$',\"\\\\\",'.']\n",
        "for ch in esc_char:\n",
        "  job_desc = job_desc.replace(ch,'')\n",
        "job_desc_norm = job_desc.lower()"
      ],
      "execution_count": 1,
      "outputs": [
        {
          "output_type": "stream",
          "text": [
            "def project(txt,name,abstract,contrib):   heading(txt.upper()+\" - \"+name,4)   para(\"Abstract -\"+abstract)   heading(\"Contribution:\",4)   para(\"\")   para(contrib)\n"
          ],
          "name": "stdout"
        }
      ]
    },
    {
      "cell_type": "code",
      "metadata": {
        "id": "tI64436cO-0t"
      },
      "source": [
        "import pandas as pd\n",
        "tech_set = pd.read_csv(\"https://raw.githubusercontent.com/abhi91420/Resume_Automation/main/data/list_of_softwares.csv\",header = None,error_bad_lines= False)\n",
        "tech_set = tech_set[0]\n",
        "tech_set = tech_set.drop_duplicates()\n",
        "tech_set_list= []\n",
        "try:\n",
        "  for i in range(tech_set.size):\n",
        "    tech_set_list.append(tech_set[i])\n",
        "except KeyError:\n",
        "  pass\n",
        "    "
      ],
      "execution_count": 2,
      "outputs": []
    },
    {
      "cell_type": "markdown",
      "metadata": {
        "id": "Ut7cm5YTpv8M"
      },
      "source": [
        "### Normalize the data"
      ]
    },
    {
      "cell_type": "code",
      "metadata": {
        "id": "eabjeqbcfHke"
      },
      "source": [
        "def Normalize(x):\n",
        "  temp = []\n",
        "  char = [' ',',',':','/','\\n','\\t','-','$',\"\\\\\",'.']\n",
        "  for i in range(len(x)):\n",
        "    x[i] = str(x[i].lower())\n",
        "    for ch in char:\n",
        "      x[i] = x[i].replace(ch,'')\n",
        "    temp.append(x[i])\n",
        "  return temp"
      ],
      "execution_count": 3,
      "outputs": []
    },
    {
      "cell_type": "code",
      "metadata": {
        "id": "wvOwmAwxf4iL"
      },
      "source": [
        "tech_set_norm = Normalize(tech_set_list)"
      ],
      "execution_count": 4,
      "outputs": []
    },
    {
      "cell_type": "markdown",
      "metadata": {
        "id": "P2A39n4kp2T3"
      },
      "source": [
        "### check for technologies in the job description\n"
      ]
    },
    {
      "cell_type": "code",
      "metadata": {
        "id": "sUXmslrJp-Uc"
      },
      "source": [
        "found_set = []\n",
        "for i in tech_set_norm:\n",
        "  if i in job_desc_norm:\n",
        "    found_set.append(i)\n",
        "\n",
        "if len(found_set)%2 != 2:\n",
        "  found_set.append(\"\")"
      ],
      "execution_count": 5,
      "outputs": []
    },
    {
      "cell_type": "markdown",
      "metadata": {
        "id": "QGJXoi35mDeM"
      },
      "source": [
        "### Creating a document with the information\n",
        "---\n",
        "Required package : Python Docx \n",
        "\n",
        "- install command : ```!pip install python-docx```\n"
      ]
    },
    {
      "cell_type": "code",
      "metadata": {
        "id": "mz6IWgw9hp2E",
        "outputId": "d287c4eb-b9c9-43cb-90ac-da528b6afa35",
        "colab": {
          "base_uri": "https://localhost:8080/"
        }
      },
      "source": [
        "!pip install python-docx"
      ],
      "execution_count": 6,
      "outputs": [
        {
          "output_type": "stream",
          "text": [
            "Collecting python-docx\n",
            "\u001b[?25l  Downloading https://files.pythonhosted.org/packages/e4/83/c66a1934ed5ed8ab1dbb9931f1779079f8bca0f6bbc5793c06c4b5e7d671/python-docx-0.8.10.tar.gz (5.5MB)\n",
            "\u001b[K     |████████████████████████████████| 5.5MB 2.7MB/s \n",
            "\u001b[?25hRequirement already satisfied: lxml>=2.3.2 in /usr/local/lib/python3.6/dist-packages (from python-docx) (4.2.6)\n",
            "Building wheels for collected packages: python-docx\n",
            "  Building wheel for python-docx (setup.py) ... \u001b[?25l\u001b[?25hdone\n",
            "  Created wheel for python-docx: filename=python_docx-0.8.10-cp36-none-any.whl size=184491 sha256=c37c697cccb83f446487dae3ac7adca8fc38a3d6723daefd9b294c9760a87ed3\n",
            "  Stored in directory: /root/.cache/pip/wheels/18/0b/a0/1dd62ff812c857c9e487f27d80d53d2b40531bec1acecfa47b\n",
            "Successfully built python-docx\n",
            "Installing collected packages: python-docx\n",
            "Successfully installed python-docx-0.8.10\n"
          ],
          "name": "stdout"
        }
      ]
    },
    {
      "cell_type": "code",
      "metadata": {
        "id": "WPM_yoO6KtfN"
      },
      "source": [
        "# custom function \n",
        "\n",
        "def heading(x,n):\n",
        "  return resume.add_heading(x,n)\n",
        "\n",
        "def para(x):\n",
        "  return  resume.add_paragraph(x)\n",
        "\n",
        "def center(x):\n",
        "  x.alignment = WD_ALIGN_PARAGRAPH.CENTER\n",
        "  \n",
        "def project(txt,name,abstract,contrib):\n",
        "  para(\"\")\n",
        "  heading(txt.upper()+\" - \"+name,4)\n",
        "  para(\"Abstract -\"+abstract)\n",
        "  heading(\"Contribution:\",4)\n",
        "  para(\"\")\n",
        "  para(contrib)"
      ],
      "execution_count": 7,
      "outputs": []
    },
    {
      "cell_type": "markdown",
      "metadata": {
        "id": "4gSSzrk_wg8-"
      },
      "source": [
        "### Required data for document entry\n",
        "\n",
        "- user enters his personal data (Name, No, address etc)\n",
        "- prewritten set of objective paragraphs"
      ]
    },
    {
      "cell_type": "code",
      "metadata": {
        "id": "fFlC0IhluIW6"
      },
      "source": [
        "import docx\n",
        "from docx.enum.text import *\n",
        "\n",
        "# initialize document object\n",
        "\n",
        "resume = docx.Document()"
      ],
      "execution_count": 8,
      "outputs": []
    },
    {
      "cell_type": "code",
      "metadata": {
        "id": "nXWYR_ffuPl_",
        "outputId": "9fd0d65b-4a11-4952-df5c-743561d8614f",
        "colab": {
          "base_uri": "https://localhost:8080/"
        }
      },
      "source": [
        "# User prompt information\n",
        "\n",
        "name = input(\"Enter Your Name : \")\n",
        "address = input(\"Enter your Address : \")\n",
        "phone_no = input(\"Enter Your Contact No :\")\n",
        "email_id = input(\"Enter Email id : \")\n",
        "line_2 = address+','+phone_no+','+email_id\n"
      ],
      "execution_count": 9,
      "outputs": [
        {
          "output_type": "stream",
          "text": [
            "Enter Your Name : Abhishek Guntaka\n",
            "Enter your Address : 3300\n",
            "Enter Your Contact No :asd\n",
            "Enter Email id : sad\n"
          ],
          "name": "stdout"
        }
      ]
    },
    {
      "cell_type": "code",
      "metadata": {
        "id": "_1OuXgwKoNm-",
        "outputId": "5dc53dbc-6644-480f-8cbd-201d867ce5cd",
        "colab": {
          "base_uri": "https://localhost:8080/"
        }
      },
      "source": [
        "# add the user prompt info to the docxfile \n",
        "\n",
        "title_1 = heading(name,1)\n",
        "center(title_1)\n",
        "title_2 = heading(line_2,2)\n",
        "center(title_2)\n",
        "# Line space \n",
        "para(\"\")\n"
      ],
      "execution_count": 10,
      "outputs": [
        {
          "output_type": "execute_result",
          "data": {
            "text/plain": [
              "<docx.text.paragraph.Paragraph at 0x7fa9342fa6a0>"
            ]
          },
          "metadata": {
            "tags": []
          },
          "execution_count": 10
        }
      ]
    },
    {
      "cell_type": "code",
      "metadata": {
        "id": "YuPw8XiRnTWS"
      },
      "source": [
        "# add objective/summary\n",
        "\n",
        "def objective():\n",
        "  heading(\"Objective Summary\",2)\n",
        "  objective = input(\"Enter Summary : \")\n",
        "  para(\" \")\n"
      ],
      "execution_count": 11,
      "outputs": []
    },
    {
      "cell_type": "code",
      "metadata": {
        "id": "CKs5gjY3oVEO"
      },
      "source": [
        "# add work experience\n",
        "\n",
        "def work_exp():\n",
        "  print(\"\\nWork Experience Section \\n\")\n",
        "  heading(\"Work Experience\",2)\n",
        "  para(\"\")\n",
        "  work_title = input(\"Enter Your Work title : \")\n",
        "  company = input(\"Enter Company's Name : \")\n",
        "  heading(work_title  + \"-\" + company,2)\n",
        "  heading(\"Responsibilities and duties :\",3)\n",
        "  duties = []\n",
        "  print(\"\\nEnter Duties : (enter q to stop entering duties) \")\n",
        "  flag = \"\"\n",
        "  while flag != \"q\":\n",
        "      flag = input(\"enter a duty : \")\n",
        "      duties.append(\". \"+ flag)\n",
        "      temp = \"\"\n",
        "  for duty in duties[:-1]:\n",
        "      temp = temp+duty+\"\\n\"\n",
        "  para(temp)\n"
      ],
      "execution_count": 12,
      "outputs": []
    },
    {
      "cell_type": "code",
      "metadata": {
        "id": "Uw8ntVgIoWr1"
      },
      "source": [
        "# add education\n",
        "\n",
        "def education():\n",
        "  print(\"\\nEducation Section \\n\")\n",
        "  education = input(\"Enter Your Name of the Degree :\")\n",
        "  institute = input(\"Name of the institute : \")\n",
        "  institute_location = input(\"City : \") +\",\"+input(\"State :\")\n",
        "  years = input(\"From year : \")+\" - \"+input(\"To year : \")\n",
        "  heading(\"Education\",2)\n",
        "  para(\"\")\n",
        "  heading(education,3)\n",
        "  para(institute+\",\"+institute_location+\"\\n\"+years)"
      ],
      "execution_count": 13,
      "outputs": []
    },
    {
      "cell_type": "code",
      "metadata": {
        "id": "TRlDsIH9oYQO"
      },
      "source": [
        "# add skills\n",
        "\n",
        "def skills():\n",
        "  heading(\"Skills\",2)\n",
        "  para(\"\")\n",
        "  skill_table = resume.add_table(rows = 0,cols = 2)\n",
        "  count = 0\n",
        "  for i in range(int(len(found_set)/2)):\n",
        "      table_cells = skill_table.add_row().cells    \n",
        "      table_cells[0].text = found_set[count]\n",
        "      count += 1\n",
        "      table_cells[1].text = found_set[count]\n",
        "      count += 1"
      ],
      "execution_count": 15,
      "outputs": []
    },
    {
      "cell_type": "code",
      "metadata": {
        "id": "gO9YUSX_6atA"
      },
      "source": [
        "# add projects\n",
        "\n",
        "def project():\n",
        "  heading(\"Projects \")\n",
        "  no_of_projects = input(\"Enter no of projects : \")\n",
        "  for i in range(no_of_projects):\n",
        "      txt = input(\"Enter Technology used : \")\n",
        "      name = input(\"Enter Title of the project : \")\n",
        "      abstract = input(\"Enter abstract : \")\n",
        "      contribution = input(\"Enter Contribution : \")\n",
        "      project(txt,name,abstract,contribution)"
      ],
      "execution_count": 16,
      "outputs": []
    },
    {
      "cell_type": "code",
      "metadata": {
        "id": "vmUyqgWYoaGi",
        "outputId": "cd7f3ab5-7352-45b8-f787-dcc3cfcae00d",
        "colab": {
          "base_uri": "https://localhost:8080/"
        }
      },
      "source": [
        "# Save the document\n",
        "\n",
        "if __name__ == \"__main__\":\n",
        "  try:\n",
        "    function_caller_dict= {1:\"Work experience\",2:\"Education\",3:\"Skills\",4:\"Projects\"}\n",
        "    objective()\n",
        "    template_selection = int(input(\"1. Default Sections\\n2. Custom Sections\\nEnter your choice no :\"))\n",
        "    if template_selection == 1:\n",
        "      work_exp()\n",
        "      education()\n",
        "      skills()\n",
        "      for i in range(input(\"No of projects : \")):\n",
        "        project()\n",
        "    elif template_selection ==2:\n",
        "      print(\"Select a section to fill\\n\")\n",
        "      for i in function_caller_dict.keys():\n",
        "        print(i,\".\",function_caller_dict[i])\n",
        "        temp = 0\n",
        "        while temp < 4:\n",
        "          select = input(\"Enter a section no : \")\n",
        "          if select == 1:\n",
        "            work_exp()\n",
        "            temp += 1\n",
        "          elif select == 2:\n",
        "            education()\n",
        "            temp += 1\n",
        "          elif select == 3:\n",
        "            skills()\n",
        "            temp += 1\n",
        "          elif select == 4:\n",
        "            for i in range(input(\"No of projects : \")):\n",
        "              project()\n",
        "            temp += 1\n",
        "          else:\n",
        "            print(\"invalid entry\")\n",
        "      else:\n",
        "        print(\"Invalid\")\n",
        "    resume.save(\"resume.docx\")\n",
        "  except(KeyboardInterrupt):\n",
        "      print(\"Exited\")\n",
        "  "
      ],
      "execution_count": 52,
      "outputs": [
        {
          "output_type": "stream",
          "text": [
            "Exited\n"
          ],
          "name": "stdout"
        }
      ]
    }
  ]
}