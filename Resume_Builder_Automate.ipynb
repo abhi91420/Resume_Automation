{
  "nbformat": 4,
  "nbformat_minor": 0,
  "metadata": {
    "colab": {
      "name": "Resume Builder Automate",
      "provenance": [],
      "collapsed_sections": [],
      "mount_file_id": "12QIVtepne9IvPKuHTYHDSX3pO5EOCgev",
      "authorship_tag": "ABX9TyOAR2VB6lzbKOOouAUasf2y",
      "include_colab_link": true
    },
    "kernelspec": {
      "name": "python3",
      "display_name": "Python 3"
    }
  },
  "cells": [
    {
      "cell_type": "markdown",
      "metadata": {
        "id": "view-in-github",
        "colab_type": "text"
      },
      "source": [
        "<a href=\"https://colab.research.google.com/github/abhi91420/Resume_Automation/blob/main/Resume_Builder_Automate.ipynb\" target=\"_parent\"><img src=\"https://colab.research.google.com/assets/colab-badge.svg\" alt=\"Open In Colab\"/></a>"
      ]
    },
    {
      "cell_type": "markdown",
      "metadata": {
        "id": "YoZ6or3LFMnG"
      },
      "source": [
        "## Resume Builder Automation\n",
        "\n",
        "- Input : Job description\n",
        "- Output : Resume with relavent skills to the job"
      ]
    },
    {
      "cell_type": "markdown",
      "metadata": {
        "id": "QGJXoi35mDeM"
      },
      "source": [
        "### Creating a document with the information\n",
        "---\n",
        "Required package : Python Docx \n",
        "\n",
        "- install command : ```!pip install python-docx```\n"
      ]
    },
    {
      "cell_type": "code",
      "metadata": {
        "id": "mz6IWgw9hp2E",
        "colab": {
          "base_uri": "https://localhost:8080/"
        },
        "outputId": "f0e86047-a4cb-43b7-e260-e02d27c9ab16"
      },
      "source": [
        "!pip install python-docx"
      ],
      "execution_count": 49,
      "outputs": [
        {
          "output_type": "stream",
          "text": [
            "Requirement already satisfied: python-docx in /usr/local/lib/python3.6/dist-packages (0.8.10)\n",
            "Requirement already satisfied: lxml>=2.3.2 in /usr/local/lib/python3.6/dist-packages (from python-docx) (4.2.6)\n"
          ],
          "name": "stdout"
        }
      ]
    },
    {
      "cell_type": "markdown",
      "metadata": {
        "id": "n5B_Nil9C8X2"
      },
      "source": [
        "### Imports\r\n"
      ]
    },
    {
      "cell_type": "code",
      "metadata": {
        "colab": {
          "base_uri": "https://localhost:8080/"
        },
        "id": "q7oiq2lYC6c7",
        "outputId": "ea6dee56-c430-40d0-eb70-8f938d986e19"
      },
      "source": [
        "import os\r\n",
        "import pandas as pd\r\n",
        "import docx\r\n",
        "from os import path\r\n",
        "import pickle\r\n",
        "from docx.enum.text import *\r\n",
        "from google.colab import drive\r\n",
        "\r\n",
        "drive.mount('/content/drive')"
      ],
      "execution_count": 50,
      "outputs": [
        {
          "output_type": "stream",
          "text": [
            "Drive already mounted at /content/drive; to attempt to forcibly remount, call drive.mount(\"/content/drive\", force_remount=True).\n"
          ],
          "name": "stdout"
        }
      ]
    },
    {
      "cell_type": "code",
      "metadata": {
        "id": "J1zArcx1zgmu"
      },
      "source": [
        "# creating directory in google drive \r\n",
        "\r\n",
        "os.chdir(\"/content/drive/MyDrive\")\r\n",
        "try:\r\n",
        "  os.chdir(\"/content/drive/MyDrive/Generated Resumes/data\")\r\n",
        "except FileNotFoundError:\r\n",
        "  os.mkdir(\"Generated Resumes\")\r\n",
        "  os.chdir(\"/content/drive/MyDrive/Generated Resumes\")\r\n",
        "  os.mkdir(\"data\")\r\n",
        "  os.chdir(\"/content/drive/MyDrive/Generated Resumes/data\")"
      ],
      "execution_count": 51,
      "outputs": []
    },
    {
      "cell_type": "markdown",
      "metadata": {
        "id": "7S3BuoTN_gkq"
      },
      "source": [
        "### Custom Functions"
      ]
    },
    {
      "cell_type": "code",
      "metadata": {
        "id": "WPM_yoO6KtfN"
      },
      "source": [
        "# custom function \n",
        "\n",
        "def heading(x,n):\n",
        "  return resume.add_heading(x,n)\n",
        "\n",
        "def para(x):\n",
        "  return  resume.add_paragraph(x)\n",
        "\n",
        "def center(x):\n",
        "  x.alignment = WD_ALIGN_PARAGRAPH.CENTER\n",
        "  \n",
        "def project(txt,name,abstract,contrib):\n",
        "  para(\"\")\n",
        "  heading(txt.upper()+\" - \"+name,4)\n",
        "  para(\"Abstract -\"+abstract)\n",
        "  heading(\"Contribution:\",4)\n",
        "  para(\"\")\n",
        "  para(contrib)"
      ],
      "execution_count": 52,
      "outputs": []
    },
    {
      "cell_type": "markdown",
      "metadata": {
        "id": "8FXI-S8gGZb_"
      },
      "source": [
        "### Input data preprocessing\n",
        "\n",
        "we paste the job description and we extract meaningful data from it\n"
      ]
    },
    {
      "cell_type": "code",
      "metadata": {
        "id": "RZwgPG96alfo"
      },
      "source": [
        "def job_description(x):\n",
        "  \n",
        "  job_desc = x\n",
        "  esc_char = [' ',',',':','/','\\n','\\t','-','$',\"\\\\\",'.']\n",
        "  for ch in esc_char:\n",
        "    job_desc = job_desc.replace(ch,'')\n",
        "  \n",
        "  job_desc_norm = job_desc.lower()\n",
        "  #tech_set = pd.read_csv(\"https://raw.githubusercontent.com/abhi91420/Resume_Automation/main/data/list_of_softwares.csv\",header = None,error_bad_lines= False)\n",
        "  tech_set = pd.read_csv(\"https://raw.githubusercontent.com/abhi91420/Resume_Automation/main/data/list_ece.csv\",header = None)\n",
        "  tech_set = tech_set[0]\n",
        "  tech_set = tech_set.drop_duplicates()\n",
        "  \n",
        "  try:\n",
        "    for i in range(tech_set.size):\n",
        "      tech_set_list.append(tech_set[i])\n",
        "    \n",
        "  \n",
        "  except KeyError:\n",
        "    pass\n",
        " \n",
        "  return job_desc_norm,tech_set_list"
      ],
      "execution_count": 53,
      "outputs": []
    },
    {
      "cell_type": "markdown",
      "metadata": {
        "id": "Ut7cm5YTpv8M"
      },
      "source": [
        "### Normalize the data"
      ]
    },
    {
      "cell_type": "code",
      "metadata": {
        "id": "eabjeqbcfHke"
      },
      "source": [
        "def Normalize(x):\n",
        "  temp = []\n",
        "  char = [' ',',',':','/','\\n','\\t','-','$',\"\\\\\",'.']\n",
        "  for i in range(len(x)):\n",
        "    x[i] = str(x[i].lower())\n",
        "    for ch in char:\n",
        "      x[i] = x[i].replace(ch,'')\n",
        "    temp.append(x[i])\n",
        "  return temp"
      ],
      "execution_count": 54,
      "outputs": []
    },
    {
      "cell_type": "markdown",
      "metadata": {
        "id": "P2A39n4kp2T3"
      },
      "source": [
        "### Sections\n"
      ]
    },
    {
      "cell_type": "code",
      "metadata": {
        "id": "sUXmslrJp-Uc"
      },
      "source": [
        "def search(job_desc_norm,tech_set_list):\n",
        "  \n",
        "  tech_set_norm = Normalize(tech_set_list)\n",
        "  for i in tech_set_norm:\n",
        "    if i in job_desc_norm:\n",
        "      found_set.append(i)\n",
        "  if len(found_set)%2 != 2:\n",
        "    found_set.append(\"\")\n",
        "\n",
        "  print(\"=========================================\")\n",
        "  print(\"Found Skills Required :\")\n",
        "  print(\"=========================================\")\n",
        "  \n",
        "  for item in found_set:\n",
        "    print(item)\n",
        "  \n",
        "  \n",
        "  "
      ],
      "execution_count": 55,
      "outputs": []
    },
    {
      "cell_type": "code",
      "metadata": {
        "id": "YuPw8XiRnTWS"
      },
      "source": [
        "# add objective/summary\n",
        "\n",
        "def objective():\n",
        "  heading(\"Objective Summary\",2)\n",
        "  if (path.exists(\"objective.p\")):\n",
        "    print(\"Objective Summary Found\")\n",
        "    objective = pickle.load(open(\"objective.p\",\"rb\"))\n",
        "  else:\n",
        "    objective = input(\"Enter Summary : \")\n",
        "    pickle.dump(objective,open(\"objective.p\",\"wb\"))\n",
        "  para(\"\")\n",
        "  para(objective)\n"
      ],
      "execution_count": 56,
      "outputs": []
    },
    {
      "cell_type": "code",
      "metadata": {
        "id": "CKs5gjY3oVEO"
      },
      "source": [
        "# add work experience\n",
        "\n",
        "def work_exp():\n",
        "  heading(\"Work Experience\",2)\n",
        "  para(\"\")\n",
        "  if (path.exists(\"work_exp.p\")):\n",
        "    print(\"Work Experience Found\")\n",
        "    temp = pickle.load(open(\"work_exp.p\",\"rb\"))\n",
        "  else:\n",
        "    work_title = input(\"Enter Your Work title : \")\n",
        "    company = input(\"Enter Company's Name : \")\n",
        "    heading(work_title  + \"-\" + company,2)\n",
        "    heading(\"Responsibilities and duties :\",3)\n",
        "    duties = []\n",
        "    print(\"\\nEnter Duties : (enter q to stop entering duties) \")\n",
        "    flag = \"\"\n",
        "    while flag != \"q\":\n",
        "      flag = input(\"enter a duty : \")\n",
        "      duties.append(\". \"+ flag)\n",
        "      temp = \"\"\n",
        "    for duty in duties[:-1]:\n",
        "      temp = temp+duty+\"\\n\"\n",
        "    pickle.dump(temp,open(\"work_exp.p\",\"wb\"))\n",
        "  para(temp)\n"
      ],
      "execution_count": 57,
      "outputs": []
    },
    {
      "cell_type": "code",
      "metadata": {
        "id": "Uw8ntVgIoWr1"
      },
      "source": [
        "# add education\n",
        "\n",
        "def education():\n",
        "  if path.exists(\"education_data.p\"):\n",
        "    print(\"Education Found\")\n",
        "    temp = pickle.load(open(\"education_data.p\",\"rb\"))\n",
        "  else:\n",
        "    print(\"\\nEducation Section \\n\")\n",
        "    education = input(\"Enter Your Name of the Degree :\")\n",
        "    institute = input(\"Name of the institute : \")\n",
        "    institute_location = input(\"City : \") +\",\"+input(\"State :\")\n",
        "    years = input(\"From year : \")+\" - \"+input(\"To year : \")\n",
        "    heading(\"Education\",2)\n",
        "    para(\"\")\n",
        "    heading(education,3)\n",
        "    temp = institute+\",\"+institute_location+\"\\n\"+years\n",
        "    pickle.dump(temp,open(\"education_data.p\",\"wb\"))\n",
        "  para(temp)"
      ],
      "execution_count": 58,
      "outputs": []
    },
    {
      "cell_type": "code",
      "metadata": {
        "id": "TRlDsIH9oYQO"
      },
      "source": [
        "# add skills\n",
        "\n",
        "def skills():\n",
        "  heading(\"Skills\",2)\n",
        "  para(\"\")\n",
        "  skill_table = resume.add_table(rows = 0,cols = 2)\n",
        "  count = 0\n",
        "  for i in range(int(len(found_set)/2)):   \n",
        "      table_cells = skill_table.add_row().cells    \n",
        "      table_cells[0].text = found_set[count]\n",
        "      count += 1\n",
        "      table_cells[1].text = found_set[count]\n",
        "      count += 1"
      ],
      "execution_count": 59,
      "outputs": []
    },
    {
      "cell_type": "code",
      "metadata": {
        "id": "gO9YUSX_6atA"
      },
      "source": [
        "# add projects\n",
        "\n",
        "def projects():\n",
        "  heading(\"Projects \",2)\n",
        "  flag = True\n",
        "  if path.exists(\"no_of_projects.p\"):\n",
        "    print(\"Projects Found\")\n",
        "    no_of_projects = pickle.load(open(\"no_of_projects.p\",\"rb\"))\n",
        "\n",
        "    # impliment multiple loads for no of projects\n",
        "    \n",
        "    for i in range(int(no_of_projects )):\n",
        "      if path.exists(\"project\"+str(i)+\"_info.d\"):\n",
        "        temp = pickle.load(open(\"project\"+str(i)+\"_info.d\",\"rb\"))\n",
        "        project(temp[0],temp[1],temp[2],temp[3])\n",
        "        \n",
        "  else:\n",
        "   \n",
        "    no_of_projects = int(input(\"Enter no of projects : \"))  \n",
        "    pickle.dump(no_of_projects,open(\"no_of_projects.p\",\"wb\"))\n",
        "    for i in range(no_of_projects):\n",
        "      txt = input(\"Enter Technology used : \")\n",
        "      name = input(\"Enter Title of the project : \")\n",
        "      abstract = input(\"Enter abstract : \")\n",
        "      contribution = input(\"Enter Contribution : \")\n",
        "      temp = [txt,name,abstract,contribution]\n",
        "      pickle.dump(temp,open(\"project\"+str(i)+\"_info.d\",\"wb\"))\n",
        "      project(temp[0],temp[1],temp[2],temp[3])\n",
        " "
      ],
      "execution_count": 60,
      "outputs": []
    },
    {
      "cell_type": "markdown",
      "metadata": {
        "id": "4gSSzrk_wg8-"
      },
      "source": [
        "### Required data for document entry\n",
        "\n",
        "- user enters his personal data (Name, No, address etc)\n",
        "- prewritten set of objective paragraphs"
      ]
    },
    {
      "cell_type": "code",
      "metadata": {
        "id": "fFlC0IhluIW6"
      },
      "source": [
        "# initialize document object\n",
        "\n",
        "resume = docx.Document()"
      ],
      "execution_count": 61,
      "outputs": []
    },
    {
      "cell_type": "code",
      "metadata": {
        "id": "nXWYR_ffuPl_"
      },
      "source": [
        "# User prompt information\n",
        "\n",
        "if (path.exists(\"user_info.p\")):\n",
        "  user_info = pickle.load(open(\"user_info.p\",\"rb\"))\n",
        "  name = user_info[\"name\"]\n",
        "  line_2 = user_info[\"address\"]+','+user_info[\"phone_no\"]+','+user_info[\"email_id\"]\n",
        "else:\n",
        "   name = input(\"Enter Your Name : \")\n",
        "   address = input(\"Enter your Address : \")\n",
        "   phone_no = input(\"Enter Your Contact No :\")\n",
        "   email_id = input(\"Enter Email id : \")\n",
        "   line_2 = address+','+phone_no+','+email_id\n",
        "   user_info = {\"name\":name,\"address\":address,\"phone_no\":phone_no,\"email_id\":email_id}\n",
        "   pickle.dump(user_info,open(\"user_info.p\",\"wb\"))"
      ],
      "execution_count": 62,
      "outputs": []
    },
    {
      "cell_type": "code",
      "metadata": {
        "id": "_1OuXgwKoNm-",
        "colab": {
          "base_uri": "https://localhost:8080/"
        },
        "outputId": "932bf68d-43bd-4527-8872-3fd0ef332569"
      },
      "source": [
        "# add the user prompt info to the docxfile \n",
        "\n",
        "title_1 = heading(name,1)\n",
        "center(title_1)\n",
        "title_2 = heading(line_2,2)\n",
        "center(title_2)\n",
        "# Line space \n",
        "para(\"\")"
      ],
      "execution_count": 63,
      "outputs": [
        {
          "output_type": "execute_result",
          "data": {
            "text/plain": [
              "<docx.text.paragraph.Paragraph at 0x7fea087f2c88>"
            ]
          },
          "metadata": {
            "tags": []
          },
          "execution_count": 63
        }
      ]
    },
    {
      "cell_type": "code",
      "metadata": {
        "id": "vmUyqgWYoaGi",
        "colab": {
          "base_uri": "https://localhost:8080/"
        },
        "outputId": "5d9fdb46-5a5e-4faf-8de2-aaf9afbb259e"
      },
      "source": [
        "# Save the document\n",
        "\n",
        "if __name__ == \"__main__\":\n",
        "  print(\"===========================================\")\n",
        "  print(\"Resume Creation Started\")\n",
        "  print(\"===========================================\")\n",
        "  job_desc= input(\"Copy Paste Job Description : \")\n",
        "  found_set = []\n",
        "  flag = True\n",
        "  tech_set_list= []\n",
        "  a,b = job_description(job_desc)\n",
        "  search(a,b)\n",
        "  try:\n",
        "    function_caller_dict= {1:\"Work experience\",2:\"Education\",3:\"Skills\",4:\"Projects\"}\n",
        "    objective()\n",
        "    template_selection = int(input(\"\\n1. Default Sections\\n2. Custom Sections\\nEnter your choice no :\"))\n",
        "     \n",
        "    if template_selection == 1:\n",
        "      work_exp()\n",
        "      education()\n",
        "      skills()\n",
        "      projects()\n",
        "    elif template_selection ==2:\n",
        "      print(\"Select a section to fill\\n\")\n",
        "      for i in function_caller_dict.keys():\n",
        "        print(i,\".\",function_caller_dict[i])\n",
        "        temp = 0\n",
        "        while temp < 4:\n",
        "          select = input(\"Enter a section no : \")\n",
        "          if select == 1:\n",
        "            work_exp()\n",
        "            temp += 1\n",
        "          elif select == 2:\n",
        "            education()\n",
        "            temp += 1\n",
        "          elif select == 3:\n",
        "            skills()\n",
        "            temp += 1\n",
        "          elif select == 4:\n",
        "            for i in range(input(\"No of projects : \")):\n",
        "              project()\n",
        "            temp += 1\n",
        "          else:\n",
        "            print(\"invalid entry\")\n",
        "      else:\n",
        "        print(\"Invalid\")\n",
        "    role = str(input(\"Title of the job your applying for : \")).capitalize()\n",
        "    company = str(input(\"Name of the company your applying for :\")).capitalize()\n",
        "    os.chdir(\"/content/drive/MyDrive/Generated Resumes\")\n",
        "    resume.save(company+\" \"+role+\" Resume\"+\".docx\")\n",
        "  except KeyboardInterrupt:\n",
        "      print(\"Exited\")\n",
        "  print(\"Resume Saved in your drive in Generated Resumes\")"
      ],
      "execution_count": 48,
      "outputs": [
        {
          "output_type": "stream",
          "text": [
            "===========================================\n",
            "Resume Creation Started\n",
            "===========================================\n",
            "Copy Paste Job Description : Engineering Designs\t AutoCAD\t Design Verification\t Electronic Trouble shooting\t Power Simulator\t Oscilloscopes and Generators\t Test Engineering\t Microcontroller Softwares\n",
            "=========================================\n",
            "Found Skills Required :\n",
            "=========================================\n",
            "engineeringdesigns\n",
            "autocad\n",
            "designverification\n",
            "electronictroubleshooting\n",
            "powersimulator\n",
            "oscilloscopesandgenerators\n",
            "testengineering\n",
            "microcontrollersoftwares\n",
            "\n",
            "Objective Summary Found\n",
            "Exited\n"
          ],
          "name": "stdout"
        }
      ]
    }
  ]
}