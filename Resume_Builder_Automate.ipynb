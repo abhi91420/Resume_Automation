{
  "nbformat": 4,
  "nbformat_minor": 0,
  "metadata": {
    "colab": {
      "name": "Resume Builder Automate",
      "provenance": [],
      "collapsed_sections": [],
      "authorship_tag": "ABX9TyNXhxlcKlUgZbNXzCx9y4Pm",
      "include_colab_link": true
    },
    "kernelspec": {
      "name": "python3",
      "display_name": "Python 3"
    }
  },
  "cells": [
    {
      "cell_type": "markdown",
      "metadata": {
        "id": "view-in-github",
        "colab_type": "text"
      },
      "source": [
        "<a href=\"https://colab.research.google.com/github/abhi91420/Resume_Automation/blob/main/Resume_Builder_Automate.ipynb\" target=\"_parent\"><img src=\"https://colab.research.google.com/assets/colab-badge.svg\" alt=\"Open In Colab\"/></a>"
      ]
    },
    {
      "cell_type": "markdown",
      "metadata": {
        "id": "YoZ6or3LFMnG"
      },
      "source": [
        "## Resume Builder Automation\n",
        "\n",
        "- Input : Job description\n",
        "- Output : Resume relavent to the job"
      ]
    },
    {
      "cell_type": "markdown",
      "metadata": {
        "id": "8FXI-S8gGZb_"
      },
      "source": [
        "### Input data preprocessing\n",
        "\n",
        "we paste the job description and we extract meaningful data from it\n"
      ]
    },
    {
      "cell_type": "code",
      "metadata": {
        "id": "RZwgPG96alfo"
      },
      "source": [
        "job_desc= \"\"\"6+ years of experience in web application development\n",
        "Experience working in Python or Ruby on Rails\n",
        "Working experience using MySQL\n",
        "Knowledge or working experience in JavaScript and frameworks like: AngularJS or EmberJS\n",
        "Have some experience or knowledge building API for microservices and investing in architecture setup\n",
        "A strong understanding of test-driven development\n",
        "Have experience in deploying applications into Production\n",
        "Knowledge or experience in CI/CD and automated build pipeline\n",
        "\n",
        "Nice to have:\n",
        "\n",
        "Experience in DevOps and service ownership\n",
        "Strong pair programming or mob programming skills\n",
        "Experience using tools: Docker, Kubernetes, Ansible or Terraform\n",
        "Experience with Cloud services like GCP or AWS\n",
        "Experience with Redis/ElasticSearch and/or RabbitMQ\n",
        "\"\"\"\n",
        "esc_char = [' ',',',':','/','\\n','\\t','-','$',\"\\\\\",'.']\n",
        "for ch in esc_char:\n",
        "  job_desc = job_desc.replace(ch,'')\n",
        "job_desc_norm = job_desc.lower()"
      ],
      "execution_count": 1,
      "outputs": []
    },
    {
      "cell_type": "code",
      "metadata": {
        "id": "tI64436cO-0t"
      },
      "source": [
        "import pandas as pd\n",
        "tech_set = pd.read_csv(\"https://raw.githubusercontent.com/abhi91420/Resume_Automation/main/data/list_of_softwares.csv\",header = None,error_bad_lines= False)\n",
        "tech_set = tech_set[0]\n",
        "tech_set = tech_set.drop_duplicates()\n",
        "tech_set_list= []\n",
        "try:\n",
        "  for i in range(tech_set.size):\n",
        "    tech_set_list.append(tech_set[i])\n",
        "except KeyError:\n",
        "  pass\n",
        "    "
      ],
      "execution_count": 2,
      "outputs": []
    },
    {
      "cell_type": "markdown",
      "metadata": {
        "id": "Ut7cm5YTpv8M"
      },
      "source": [
        "### Normalize the data"
      ]
    },
    {
      "cell_type": "code",
      "metadata": {
        "id": "eabjeqbcfHke"
      },
      "source": [
        "def Normalize(x):\n",
        "  temp = []\n",
        "  char = [' ',',',':','/','\\n','\\t','-','$',\"\\\\\",'.']\n",
        "  for i in range(len(x)):\n",
        "    x[i] = str(x[i].lower())\n",
        "    for ch in char:\n",
        "      x[i] = x[i].replace(ch,'')\n",
        "    temp.append(x[i])\n",
        "  return temp"
      ],
      "execution_count": 3,
      "outputs": []
    },
    {
      "cell_type": "code",
      "metadata": {
        "id": "wvOwmAwxf4iL"
      },
      "source": [
        "tech_set_norm = Normalize(tech_set_list)"
      ],
      "execution_count": 4,
      "outputs": []
    },
    {
      "cell_type": "markdown",
      "metadata": {
        "id": "P2A39n4kp2T3"
      },
      "source": [
        "### check for technologies in the job description\n"
      ]
    },
    {
      "cell_type": "code",
      "metadata": {
        "id": "sUXmslrJp-Uc",
        "outputId": "18e4532a-7381-4b99-e558-a642c97433a0",
        "colab": {
          "base_uri": "https://localhost:8080/"
        }
      },
      "source": [
        "for i in tech_set_norm:\n",
        "  if i in job_desc_norm:\n",
        "    print(i)"
      ],
      "execution_count": 5,
      "outputs": [
        {
          "output_type": "stream",
          "text": [
            "java\n",
            "javascript\n",
            "angularjs\n",
            "aws\n",
            "cloudservices\n",
            "devops\n",
            "sql\n",
            "python\n"
          ],
          "name": "stdout"
        }
      ]
    },
    {
      "cell_type": "markdown",
      "metadata": {
        "id": "QGJXoi35mDeM"
      },
      "source": [
        "### Creating a document with the information\n",
        "---\n",
        "Required package : Python Docx \n",
        "\n",
        "- install command : ```!pip install python-docx```\n"
      ]
    },
    {
      "cell_type": "code",
      "metadata": {
        "id": "mz6IWgw9hp2E",
        "outputId": "e9f81f67-64c9-4ae9-8aec-75b37d1a24c0",
        "colab": {
          "base_uri": "https://localhost:8080/"
        }
      },
      "source": [
        "!pip install python-docx"
      ],
      "execution_count": 6,
      "outputs": [
        {
          "output_type": "stream",
          "text": [
            "Collecting python-docx\n",
            "\u001b[?25l  Downloading https://files.pythonhosted.org/packages/e4/83/c66a1934ed5ed8ab1dbb9931f1779079f8bca0f6bbc5793c06c4b5e7d671/python-docx-0.8.10.tar.gz (5.5MB)\n",
            "\u001b[K     |████████████████████████████████| 5.5MB 2.7MB/s \n",
            "\u001b[?25hRequirement already satisfied: lxml>=2.3.2 in /usr/local/lib/python3.6/dist-packages (from python-docx) (4.2.6)\n",
            "Building wheels for collected packages: python-docx\n",
            "  Building wheel for python-docx (setup.py) ... \u001b[?25l\u001b[?25hdone\n",
            "  Created wheel for python-docx: filename=python_docx-0.8.10-cp36-none-any.whl size=184491 sha256=8efc3f66e26b2d10b46b6f45de7f36333466bad5a204e26702c8c8b288fe5545\n",
            "  Stored in directory: /root/.cache/pip/wheels/18/0b/a0/1dd62ff812c857c9e487f27d80d53d2b40531bec1acecfa47b\n",
            "Successfully built python-docx\n",
            "Installing collected packages: python-docx\n",
            "Successfully installed python-docx-0.8.10\n"
          ],
          "name": "stdout"
        }
      ]
    },
    {
      "cell_type": "code",
      "metadata": {
        "id": "WPM_yoO6KtfN"
      },
      "source": [
        "# custom function \n",
        "\n",
        "def heading(x,n):\n",
        "  return resume.add_heading(x,n)\n",
        "\n",
        "def para(x):\n",
        "  return  resume.add_paragraph(x)\n",
        "\n",
        "def center(x):\n",
        "  x.alignment = WD_ALIGN_PARAGRAPH.CENTER"
      ],
      "execution_count": 13,
      "outputs": []
    },
    {
      "cell_type": "markdown",
      "metadata": {
        "id": "4gSSzrk_wg8-"
      },
      "source": [
        "### Required data for document entry\n",
        "\n",
        "- user enters his personal data (Name, No, address etc)\n",
        "- prewritten set of objective paragraphs"
      ]
    },
    {
      "cell_type": "code",
      "metadata": {
        "id": "fFlC0IhluIW6",
        "outputId": "76d45913-a48e-4eac-bc8b-986bff3b9ef4",
        "colab": {
          "base_uri": "https://localhost:8080/"
        }
      },
      "source": [
        "import docx\n",
        "from docx.enum.text import *\n",
        "resume = docx.Document()\n",
        "\n",
        "# User prompt information\n",
        "\n",
        "name = input(\"Enter Your Name : \")\n",
        "address = input(\"Enter your Address : \")\n",
        "phone_no = input(\"Enter Your Contact No :\")\n",
        "email_id = input(\"Enter Email id : \")\n",
        "line_2 = address+','+phone_no+','+email_id\n",
        "\n",
        "# add the user prompt info to the docxfile \n",
        "\n",
        "title_1 = heading(name,1)\n",
        "center(title_1)\n",
        "title_2 = heading(line_2,2)\n",
        "center(title_2)\n",
        "# Line space \n",
        "para(\"\")\n",
        "\n",
        "# add objective/summary\n",
        "\n",
        "heading(\"Objective Summary\",2)\n",
        "objective_preset = \"I am a recent graduate with a master’s degree in Computer Science and have a passion for Software development. Highly motivated and want to work for your reputed organization, open to learning any new technologies that are required. Skilled in technical and non-technical aspects that contribute to an efficient team and individual functionality.\"\n",
        "objective = para(objective_preset)\n",
        "para(\" \")\n",
        "\n",
        "# add work experience\n",
        "\n",
        "print(\"\\nWork Experience Section \\n\")\n",
        "heading(\"Work Experience\",2)\n",
        "para(\"\")\n",
        "work_title = input(\"Enter Your Work title : \")\n",
        "company = input(\"Enter Company's Name : \")\n",
        "heading(work_title  + \"-\" + company,2)\n",
        "heading(\"Responsibilities and duties :\",3)\n",
        "duties = []\n",
        "print(\"\\nEnter Duties : (enter q to stop entering duties) \")\n",
        "flag = \"\"\n",
        "while flag != \"q\":\n",
        "  flag = input(\"enter a duty : \")\n",
        "  duties.append(\". \"+ flag)\n",
        "temp = \"\"\n",
        "for duty in duties[:-1]:\n",
        "  temp = temp+duty+\"\\n\"\n",
        "para(temp)\n",
        "\n",
        "# add education\n",
        "\n",
        "print(\"\\nEducation Section \\n\")\n",
        "education = input(\"Enter Your Name of the Degree :\")\n",
        "institute = input(\"Name of the institute : \")\n",
        "institute_location = input(\"City : \") +\",\"+input(\"State :\")\n",
        "years = input(\"From year : \")+\" - \"+input(\"To year : \")\n",
        "heading(\"Education\",2)\n",
        "para(\"\")\n",
        "heading(education,3)\n",
        "para(institute+\",\"+institute_location+\"\\n\"+years)\n",
        "\n",
        "# add skills\n",
        "\n",
        "resume.save(\"resume.docx\")"
      ],
      "execution_count": 26,
      "outputs": [
        {
          "output_type": "stream",
          "text": [
            "Enter Your Name : Abhishek Guntaka\n",
            "Enter your Address : 3300 Donmills Rd\n",
            "Enter Your Contact No :647-218-9304\n",
            "Enter Email id : guntakaabhishek01@gmail.com\n",
            "\n",
            "Work Experience Section \n",
            "\n",
            "Enter Your Work title : Work Experience\n",
            "Enter Company's Name : Warehouse Associate\n",
            "\n",
            "Enter Duties : (enter q to stop entering duties) \n",
            "enter a duty : . Abide by all company safety and hygiene regulations\n",
            "enter a duty : q\n",
            "\n",
            "Education Section \n",
            "\n",
            "Enter Your Name of the Degree :a\n",
            "Name of the institute : q\n",
            "City : a\n",
            "State :a\n",
            "From year : a\n",
            "To year : q\n"
          ],
          "name": "stdout"
        }
      ]
    }
  ]
}