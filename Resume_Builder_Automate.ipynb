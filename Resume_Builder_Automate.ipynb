{
  "nbformat": 4,
  "nbformat_minor": 0,
  "metadata": {
    "colab": {
      "name": "Resume Builder Automate",
      "provenance": [],
      "collapsed_sections": [],
      "mount_file_id": "12QIVtepne9IvPKuHTYHDSX3pO5EOCgev",
      "authorship_tag": "ABX9TyMVN6s4LreXW2B25LXvq1S4",
      "include_colab_link": true
    },
    "kernelspec": {
      "name": "python3",
      "display_name": "Python 3"
    }
  },
  "cells": [
    {
      "cell_type": "markdown",
      "metadata": {
        "id": "view-in-github",
        "colab_type": "text"
      },
      "source": [
        "<a href=\"https://colab.research.google.com/github/abhi91420/Resume_Automation/blob/main/Resume_Builder_Automate.ipynb\" target=\"_parent\"><img src=\"https://colab.research.google.com/assets/colab-badge.svg\" alt=\"Open In Colab\"/></a>"
      ]
    },
    {
      "cell_type": "markdown",
      "metadata": {
        "id": "YoZ6or3LFMnG"
      },
      "source": [
        "## Resume Builder Automation\n",
        "\n",
        "- Input : Job description\n",
        "- Output : Resume with relavent skills to the job"
      ]
    },
    {
      "cell_type": "markdown",
      "metadata": {
        "id": "n5B_Nil9C8X2"
      },
      "source": [
        "### Imports\r\n"
      ]
    },
    {
      "cell_type": "code",
      "metadata": {
        "colab": {
          "base_uri": "https://localhost:8080/"
        },
        "id": "q7oiq2lYC6c7",
        "outputId": "daf96ec6-1bda-463c-9174-e68c547a9491"
      },
      "source": [
        "import os\r\n",
        "import pandas as pd\r\n",
        "import docx\r\n",
        "from os import path\r\n",
        "import pickle\r\n",
        "from docx.enum.text import *\r\n",
        "from google.colab import drive\r\n",
        "\r\n",
        "drive.mount('/content/drive')"
      ],
      "execution_count": 18,
      "outputs": [
        {
          "output_type": "stream",
          "text": [
            "Drive already mounted at /content/drive; to attempt to forcibly remount, call drive.mount(\"/content/drive\", force_remount=True).\n"
          ],
          "name": "stdout"
        }
      ]
    },
    {
      "cell_type": "markdown",
      "metadata": {
        "id": "QGJXoi35mDeM"
      },
      "source": [
        "### Creating a document with the information\n",
        "---\n",
        "Required package : Python Docx \n",
        "\n",
        "- install command : ```!pip install python-docx```\n"
      ]
    },
    {
      "cell_type": "code",
      "metadata": {
        "id": "mz6IWgw9hp2E",
        "colab": {
          "base_uri": "https://localhost:8080/"
        },
        "outputId": "96c62153-b8d2-4563-8840-a9186e00ba5b"
      },
      "source": [
        "!pip install python-docx"
      ],
      "execution_count": 17,
      "outputs": [
        {
          "output_type": "stream",
          "text": [
            "shell-init: error retrieving current directory: getcwd: cannot access parent directories: No such file or directory\n",
            "shell-init: error retrieving current directory: getcwd: cannot access parent directories: No such file or directory\n",
            "The folder you are executing pip from can no longer be found.\n"
          ],
          "name": "stdout"
        }
      ]
    },
    {
      "cell_type": "code",
      "metadata": {
        "id": "J1zArcx1zgmu"
      },
      "source": [
        "# creating directory in google drive \r\n",
        "\r\n",
        "os.chdir(\"/content/drive/MyDrive\")\r\n",
        "try:\r\n",
        "  os.chdir(\"/content/drive/MyDrive/Generated Resumes/data\")\r\n",
        "except FileNotFoundError:\r\n",
        "  os.mkdir(\"Generated Resumes\")\r\n",
        "  os.chdir(\"/content/drive/MyDrive/Generated Resumes\")\r\n",
        "  os.mkdir(\"data\")\r\n",
        "  os.chdir(\"/content/drive/MyDrive/Generated Resumes/data\")"
      ],
      "execution_count": 19,
      "outputs": []
    },
    {
      "cell_type": "markdown",
      "metadata": {
        "id": "8FXI-S8gGZb_"
      },
      "source": [
        "### Input data preprocessing\n",
        "\n",
        "we paste the job description and we extract meaningful data from it\n"
      ]
    },
    {
      "cell_type": "code",
      "metadata": {
        "id": "RZwgPG96alfo"
      },
      "source": [
        "def job_desc():\n",
        "  job_desc= input(\"Copy Paste Job Description : \")\n",
        "  esc_char = [' ',',',':','/','\\n','\\t','-','$',\"\\\\\",'.']\n",
        "  for ch in esc_char:\n",
        "    job_desc = job_desc.replace(ch,'')\n",
        "    job_desc_norm = job_desc.lower()\n",
        "  tech_set = pd.read_csv(\"https://raw.githubusercontent.com/abhi91420/Resume_Automation/main/data/list_of_softwares.csv\",header = None,error_bad_lines= False)\n",
        "  tech_set = tech_set[0]\n",
        "  tech_set = tech_set.drop_duplicates()\n",
        "  tech_set_list= []\n",
        "  try:\n",
        "    for i in range(tech_set.size):\n",
        "      tech_set_list.append(tech_set[i])\n",
        "  except KeyError:\n",
        "    pass"
      ],
      "execution_count": 20,
      "outputs": []
    },
    {
      "cell_type": "markdown",
      "metadata": {
        "id": "Ut7cm5YTpv8M"
      },
      "source": [
        "### Normalize the data"
      ]
    },
    {
      "cell_type": "code",
      "metadata": {
        "id": "eabjeqbcfHke"
      },
      "source": [
        "def Normalize(x):\n",
        "  temp = []\n",
        "  char = [' ',',',':','/','\\n','\\t','-','$',\"\\\\\",'.']\n",
        "  for i in range(len(x)):\n",
        "    x[i] = str(x[i].lower())\n",
        "    for ch in char:\n",
        "      x[i] = x[i].replace(ch,'')\n",
        "    temp.append(x[i])\n",
        "  return temp"
      ],
      "execution_count": 21,
      "outputs": []
    },
    {
      "cell_type": "markdown",
      "metadata": {
        "id": "P2A39n4kp2T3"
      },
      "source": [
        "### check for technologies in the job description\n"
      ]
    },
    {
      "cell_type": "code",
      "metadata": {
        "id": "sUXmslrJp-Uc"
      },
      "source": [
        "def search():\n",
        "  tech_set_norm = Normalize(tech_set_list)\n",
        "  for i in tech_set_norm:\n",
        "    if i in job_desc_norm:\n",
        "      found_set.append(i)\n",
        "  if len(found_set)%2 != 2:\n",
        "    found_set.append(\"\")\n",
        "  for item in found_set:\n",
        "    print(item)"
      ],
      "execution_count": 22,
      "outputs": []
    },
    {
      "cell_type": "code",
      "metadata": {
        "id": "WPM_yoO6KtfN"
      },
      "source": [
        "# custom function \n",
        "\n",
        "def heading(x,n):\n",
        "  return resume.add_heading(x,n)\n",
        "\n",
        "def para(x):\n",
        "  return  resume.add_paragraph(x)\n",
        "\n",
        "def center(x):\n",
        "  x.alignment = WD_ALIGN_PARAGRAPH.CENTER\n",
        "  \n",
        "def project(txt,name,abstract,contrib):\n",
        "  para(\"\")\n",
        "  heading(txt.upper()+\" - \"+name,4)\n",
        "  para(\"Abstract -\"+abstract)\n",
        "  heading(\"Contribution:\",4)\n",
        "  para(\"\")\n",
        "  para(contrib)"
      ],
      "execution_count": 23,
      "outputs": []
    },
    {
      "cell_type": "markdown",
      "metadata": {
        "id": "4gSSzrk_wg8-"
      },
      "source": [
        "### Required data for document entry\n",
        "\n",
        "- user enters his personal data (Name, No, address etc)\n",
        "- prewritten set of objective paragraphs"
      ]
    },
    {
      "cell_type": "code",
      "metadata": {
        "id": "fFlC0IhluIW6"
      },
      "source": [
        "# initialize document object\n",
        "\n",
        "resume = docx.Document()"
      ],
      "execution_count": 24,
      "outputs": []
    },
    {
      "cell_type": "code",
      "metadata": {
        "id": "nXWYR_ffuPl_",
        "colab": {
          "base_uri": "https://localhost:8080/"
        },
        "outputId": "30bdf1cb-5d00-4fc9-807b-76f63b6cf817"
      },
      "source": [
        "# User prompt information\n",
        "\n",
        "if (path.exists(\"user_info.p\")):\n",
        "  user_info = pickle.load(open(\"user_info.p\",\"rb\"))\n",
        "  name = user_info[\"name\"]\n",
        "  line_2 = user_info[\"address\"]+','+user_info[\"phone_no\"]+','+user_info[\"email_id\"]\n",
        "else:\n",
        "   name = input(\"Enter Your Name : \")\n",
        "   address = input(\"Enter your Address : \")\n",
        "   phone_no = input(\"Enter Your Contact No :\")\n",
        "   email_id = input(\"Enter Email id : \")\n",
        "   line_2 = address+','+phone_no+','+email_id\n",
        "   user_info = {\"name\":name,\"address\":address,\"phone_no\":phone_no,\"email_id\":email_id}\n",
        "   pickle.dump(user_info,open(\"user_info.p\",\"wb\"))"
      ],
      "execution_count": 25,
      "outputs": [
        {
          "output_type": "stream",
          "text": [
            "Enter Your Name : a\n",
            "Enter your Address : a\n",
            "Enter Your Contact No :a\n",
            "Enter Email id : a\n"
          ],
          "name": "stdout"
        }
      ]
    },
    {
      "cell_type": "code",
      "metadata": {
        "id": "_1OuXgwKoNm-",
        "colab": {
          "base_uri": "https://localhost:8080/"
        },
        "outputId": "eb153240-479f-430c-b1b1-90e2639a7ade"
      },
      "source": [
        "# add the user prompt info to the docxfile \n",
        "\n",
        "title_1 = heading(name,1)\n",
        "center(title_1)\n",
        "title_2 = heading(line_2,2)\n",
        "center(title_2)\n",
        "# Line space \n",
        "para(\"\")\n"
      ],
      "execution_count": 26,
      "outputs": [
        {
          "output_type": "execute_result",
          "data": {
            "text/plain": [
              "<docx.text.paragraph.Paragraph at 0x7fe5eb5d9518>"
            ]
          },
          "metadata": {
            "tags": []
          },
          "execution_count": 26
        }
      ]
    },
    {
      "cell_type": "code",
      "metadata": {
        "id": "YuPw8XiRnTWS"
      },
      "source": [
        "# add objective/summary\n",
        "\n",
        "def objective():\n",
        "  heading(\"Objective Summary\",2)\n",
        "  if (path.exists(\"objective.p\")):\n",
        "    objective = pickle.load(open(\"objective.p\",\"rb\"))\n",
        "  else:\n",
        "    objective = input(\"Enter Summary : \")\n",
        "    pickle.dump(objective,open(\"objective.p\",\"wb\"))\n",
        "  para(\" \")\n"
      ],
      "execution_count": 27,
      "outputs": []
    },
    {
      "cell_type": "code",
      "metadata": {
        "id": "CKs5gjY3oVEO"
      },
      "source": [
        "# add work experience\n",
        "\n",
        "def work_exp():\n",
        "  print(\"\\nWork Experience Section \\n\")\n",
        "  heading(\"Work Experience\",2)\n",
        "  para(\"\")\n",
        "  if (path.exists(\"work_exp.p\")):\n",
        "    temp = pickle.load(open(\"work_exp.p\",\"rb\"))\n",
        "  else:\n",
        "    work_title = input(\"Enter Your Work title : \")\n",
        "    company = input(\"Enter Company's Name : \")\n",
        "    heading(work_title  + \"-\" + company,2)\n",
        "    heading(\"Responsibilities and duties :\",3)\n",
        "    duties = []\n",
        "    print(\"\\nEnter Duties : (enter q to stop entering duties) \")\n",
        "    flag = \"\"\n",
        "    while flag != \"q\":\n",
        "      flag = input(\"enter a duty : \")\n",
        "      duties.append(\". \"+ flag)\n",
        "      temp = \"\"\n",
        "    for duty in duties[:-1]:\n",
        "      temp = temp+duty+\"\\n\"\n",
        "    pickle.dump(temp,open(\"work_exp.p\",\"wb\"))\n",
        "  para(temp)\n"
      ],
      "execution_count": 28,
      "outputs": []
    },
    {
      "cell_type": "code",
      "metadata": {
        "id": "Uw8ntVgIoWr1"
      },
      "source": [
        "# add education\n",
        "\n",
        "def education():\n",
        "  if path.exists(\"education_data.p\"):\n",
        "    temp = pickle.load(open(\"education_data.p\",\"rb\"))\n",
        "  else:\n",
        "    print(\"\\nEducation Section \\n\")\n",
        "    education = input(\"Enter Your Name of the Degree :\")\n",
        "    institute = input(\"Name of the institute : \")\n",
        "    institute_location = input(\"City : \") +\",\"+input(\"State :\")\n",
        "    years = input(\"From year : \")+\" - \"+input(\"To year : \")\n",
        "    heading(\"Education\",2)\n",
        "    para(\"\")\n",
        "    heading(education,3)\n",
        "    temp = institute+\",\"+institute_location+\"\\n\"+years\n",
        "    pickle.dump(temp,open(\"education_data.p\",\"wb\"))\n",
        "  para(temp)"
      ],
      "execution_count": 29,
      "outputs": []
    },
    {
      "cell_type": "code",
      "metadata": {
        "id": "TRlDsIH9oYQO"
      },
      "source": [
        "# add skills\n",
        "\n",
        "def skills():\n",
        "  heading(\"Skills\",2)\n",
        "  para(\"\")\n",
        "  skill_table = resume.add_table(rows = 0,cols = 2)\n",
        "  count = 0\n",
        "  for i in range(int(len(found_set)/2)):   \n",
        "      table_cells = skill_table.add_row().cells    \n",
        "      table_cells[0].text = found_set[count]\n",
        "      count += 1\n",
        "      table_cells[1].text = found_set[count]\n",
        "      count += 1"
      ],
      "execution_count": 30,
      "outputs": []
    },
    {
      "cell_type": "code",
      "metadata": {
        "id": "gO9YUSX_6atA"
      },
      "source": [
        "# add projects\n",
        "\n",
        "def projects():\n",
        "  heading(\"Projects \",2)\n",
        "  if path.exists(\"no_of_projects.p\"):\n",
        "    no_of_projects = pickle.load(open(\"no_of_projects.p\",\"rb\"))\n",
        "\n",
        "    # impliment multiple loads for no of projects\n",
        "    \n",
        "    for i in range(int(no_of_projects)):\n",
        "      if path.exists(\"project\"+str(i)+\"_info.d\"):\n",
        "        temp = pickle.load(open(\"project\"+str(i)+\"_info.d\",\"rb\"))\n",
        "        project(temp[0],temp[1],temp[2],temp[3])\n",
        "        \n",
        "  else:\n",
        "    no_of_projects = int(input(\"Enter no of projects : \"))\n",
        "    pickle.dump(no_of_projects,open(\"no_of_projects.p\",\"wb\"))\n",
        "  for i in range(no_of_projects):\n",
        "    txt = input(\"Enter Technology used : \")\n",
        "    name = input(\"Enter Title of the project : \")\n",
        "    abstract = input(\"Enter abstract : \")\n",
        "    contribution = input(\"Enter Contribution : \")\n",
        "    temp = [txt,name,abstract,contribution]\n",
        "    pickle.dump(temp,open(\"project\"+str(i)+\"_info.d\",\"wb\"))\n",
        "    project(temp[0],temp[1],temp[2],temp[3])\n",
        " "
      ],
      "execution_count": 31,
      "outputs": []
    },
    {
      "cell_type": "code",
      "metadata": {
        "id": "vmUyqgWYoaGi",
        "colab": {
          "base_uri": "https://localhost:8080/"
        },
        "outputId": "348ec51a-f636-463e-c597-6f44c0e6f468"
      },
      "source": [
        "# Save the document\n",
        "\n",
        "if __name__ == \"__main__\":\n",
        "  found_set = []\n",
        "  job_desc()\n",
        "  try:\n",
        "    function_caller_dict= {1:\"Work experience\",2:\"Education\",3:\"Skills\",4:\"Projects\"}\n",
        "    objective()\n",
        "    template_selection = int(input(\"1. Default Sections\\n2. Custom Sections\\nEnter your choice no :\"))\n",
        "    if template_selection == 1:\n",
        "      work_exp()\n",
        "      education()\n",
        "      skills()\n",
        "      projects()\n",
        "    elif template_selection ==2:\n",
        "      print(\"Select a section to fill\\n\")\n",
        "      for i in function_caller_dict.keys():\n",
        "        print(i,\".\",function_caller_dict[i])\n",
        "        temp = 0\n",
        "        while temp < 4:\n",
        "          select = input(\"Enter a section no : \")\n",
        "          if select == 1:\n",
        "            work_exp()\n",
        "            temp += 1\n",
        "          elif select == 2:\n",
        "            education()\n",
        "            temp += 1\n",
        "          elif select == 3:\n",
        "            skills()\n",
        "            temp += 1\n",
        "          elif select == 4:\n",
        "            for i in range(input(\"No of projects : \")):\n",
        "              project()\n",
        "            temp += 1\n",
        "          else:\n",
        "            print(\"invalid entry\")\n",
        "      else:\n",
        "        print(\"Invalid\")\n",
        "    role = str(input(\"Title of the job your applying for : \")).capitalize()\n",
        "    company = str(input(\"Name of the company your applying for :\")).capitalize()\n",
        "    os.chdir(\"/content/drive/MyDrive/Generated Resumes\")\n",
        "    resume.save(company+\" \"+role+\" Resume\"+\".docx\")\n",
        "  except(KeyboardInterrupt):\n",
        "      print(\"Exited\")\n",
        "  "
      ],
      "execution_count": 32,
      "outputs": [
        {
          "output_type": "stream",
          "text": [
            "Copy Paste Job Description : java\n",
            "Enter Summary : a\n",
            "1. Default Sections\n",
            "2. Custom Sections\n",
            "Enter your choice no :1\n",
            "\n",
            "Work Experience Section \n",
            "\n",
            "Enter Your Work title : a\n",
            "Enter Company's Name : a\n",
            "\n",
            "Enter Duties : (enter q to stop entering duties) \n",
            "enter a duty : q\n",
            "\n",
            "Education Section \n",
            "\n",
            "Enter Your Name of the Degree :a\n",
            "Name of the institute : a\n",
            "City : a\n",
            "State :a\n",
            "From year : a\n",
            "To year : a\n",
            "Enter no of projects : 1\n",
            "Enter Technology used : a\n",
            "Enter Title of the project : a\n",
            "Enter abstract : a\n",
            "Enter Contribution : a\n",
            "Job Title : a\n",
            "Company name :a\n"
          ],
          "name": "stdout"
        }
      ]
    }
  ]
}