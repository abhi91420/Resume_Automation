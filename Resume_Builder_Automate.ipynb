{
  "nbformat": 4,
  "nbformat_minor": 0,
  "metadata": {
    "colab": {
      "name": "Resume Builder Automate",
      "provenance": [],
      "collapsed_sections": [],
      "authorship_tag": "ABX9TyPH86BlrZNDFxR38NXbxfDc",
      "include_colab_link": true
    },
    "kernelspec": {
      "name": "python3",
      "display_name": "Python 3"
    }
  },
  "cells": [
    {
      "cell_type": "markdown",
      "metadata": {
        "id": "view-in-github",
        "colab_type": "text"
      },
      "source": [
        "<a href=\"https://colab.research.google.com/github/abhi91420/Resume_Automation/blob/main/Resume_Builder_Automate.ipynb\" target=\"_parent\"><img src=\"https://colab.research.google.com/assets/colab-badge.svg\" alt=\"Open In Colab\"/></a>"
      ]
    },
    {
      "cell_type": "markdown",
      "metadata": {
        "id": "YoZ6or3LFMnG"
      },
      "source": [
        "## Resume Builder Automation\n",
        "\n",
        "- Input : Job description\n",
        "- Output : Resume relavent to the job"
      ]
    },
    {
      "cell_type": "markdown",
      "metadata": {
        "id": "8FXI-S8gGZb_"
      },
      "source": [
        "### Input data preprocessing\n",
        "\n",
        "we paste the job description and we extract meaningful data from it\n"
      ]
    },
    {
      "cell_type": "code",
      "metadata": {
        "id": "RZwgPG96alfo"
      },
      "source": [
        "job_desc= \"\"\"Responsibilities\n",
        "\n",
        "Collaborate with our Founder, Head of Engineering, Product team, and Software Engineers to deliver compelling user-facing products\n",
        "Architect efficient and reusable front-end systems that drive complex web applications\n",
        "Willingness to work on anything wherever needed. Nothing is outside of your job description\n",
        "Execute daily production deployments and monitoring using AWS services\n",
        "Identify and resolve performance and scalability issues\n",
        "Write automated tests as part of your development workflow\n",
        "Provide highly effective code reviews and peer support\n",
        "\n",
        "Minimum qualifications\n",
        "\n",
        "1+ years of JavaScript/Node.js experience, including concepts like asynchronous programming, closures, types, and ES6\n",
        "1+ years of HTML/CSS/React experience\n",
        "\n",
        "Preferred qualifications\n",
        "\n",
        "Bachelor's degree in Comput\n",
        "er Science, or equivalent work experience\n",
        "Experience developing and maintaining a continuous integration system or build and release pipeline\n",
        "Ability to pick up new software, frameworks and APIs quickly\n",
        "Experience with mobile development is an advantage\n",
        "A burning desire to build an insanely great product and make an impact \n",
        "\"\"\"\n",
        "job_desc= job_desc.replace(',','')\n",
        "job_desc_split = job_desc.split()\n",
        "temp = []\n",
        "for i in job_desc_split:\n",
        "  if i not in temp:\n",
        "    temp.append(i)"
      ],
      "execution_count": 56,
      "outputs": []
    },
    {
      "cell_type": "code",
      "metadata": {
        "id": "tI64436cO-0t",
        "outputId": "b0447339-2569-46fb-fe13-61d94296a1e9",
        "colab": {
          "base_uri": "https://localhost:8080/"
        }
      },
      "source": [
        "import pandas as pd\n",
        "tech_set = pd.read_csv(\"https://raw.githubusercontent.com/abhi91420/Resume_Automation/main/data/list_of_softwares.csv\",header = None,error_bad_lines= False,delimiter='\\t')\n",
        "tech_set = tech_set[0]\n",
        "tech_set = tech_set.drop_duplicates()"
      ],
      "execution_count": 70,
      "outputs": [
        {
          "output_type": "stream",
          "text": [
            "b'Skipping line 86: expected 2 fields, saw 3\\n'\n"
          ],
          "name": "stderr"
        }
      ]
    },
    {
      "cell_type": "code",
      "metadata": {
        "id": "16ProdaTaiez"
      },
      "source": [
        "'''NEED TO NORMALIZE DATA FIRST BEFORE COMPARISION!'''\n",
        "job_tech_set = []\n",
        "for i in range(len(temp)):\n",
        "  if temp[i] in tech_set:\n",
        "    job_tech_set.append(temp[i])"
      ],
      "execution_count": 73,
      "outputs": []
    }
  ]
}